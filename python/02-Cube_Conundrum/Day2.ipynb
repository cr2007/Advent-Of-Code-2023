{
 "cells": [
  {
   "cell_type": "markdown",
   "metadata": {},
   "source": [
    "# Day 2: Cube Conundrum\n",
    "\n",
    "You're launched high into the atmosphere! The apex of your trajectory just barely reaches the surface of a large island floating in the sky. You gently land in a fluffy pile of leaves. It's quite cold, but you don't see much snow. An Elf runs over to greet you.\n",
    "\n",
    "The Elf explains that you've arrived at **Snow Island** and apologizes for the lack of snow. He'll be happy to explain the situation, but it's a bit of a walk, so you have some time. They don't get many visitors up here; would you like to play a game in the meantime?\n",
    "\n",
    "As you walk, the Elf shows you a small bag and some cubes which are either red, green, or blue. Each time you play this game, he will hide a secret number of cubes of each color in the bag, and your goal is to figure out information about the number of cubes.\n",
    "\n",
    "To get information, once a bag has been loaded with cubes, the Elf will reach into the bag, grab a handful of random cubes, show them to you, and then put them back in the bag. He'll do this a few times per game.\n",
    "\n",
    "You play several games and record the information from each game (your puzzle input). Each game is listed with its ID number (like the `11` in `Game 11: ...`) followed by a semicolon-separated list of subsets of cubes that were revealed from the bag (like `3 red, 5 green, 4 blue`).\n",
    "\n",
    "For example, the record of a few games might look like this:\n",
    "\n",
    "```\n",
    "Game 1: 3 blue, 4 red; 1 red, 2 green, 6 blue; 2 green\n",
    "Game 2: 1 blue, 2 green; 3 green, 4 blue, 1 red; 1 green, 1 blue\n",
    "Game 3: 8 green, 6 blue, 20 red; 5 blue, 4 red, 13 green; 5 green, 1 red\n",
    "Game 4: 1 green, 3 red, 6 blue; 3 green, 6 red; 3 green, 15 blue, 14 red\n",
    "Game 5: 6 red, 1 blue, 3 green; 2 blue, 1 red, 2 green\n",
    "```\n",
    "\n",
    "In game 1, three sets of cubes are revealed from the bag (and then put back again). The first set is 3 blue cubes and 4 red cubes; the second set is 1 red cube, 2 green cubes, and 6 blue cubes; the third set is only 2 green cubes.\n",
    "\n",
    "The Elf would first like to know which games would have been possible if the bag contained **only 12 red cubes, 13 green cubes, and 14 blue cubes**?\n",
    "\n",
    "In the example above, games 1, 2, and 5 would have been **possible** if the bag had been loaded with that configuration. However, game 3 would have been **impossible** because at one point the Elf showed you 20 red cubes at once; similarly, game 4 would also have been **impossible** because the Elf showed you 15 blue cubes at once. If you add up the IDs of the games that would have been possible, you get **`8`**.\n",
    "\n",
    "Determine which games would have been possible if the bag had been loaded with only 12 red cubes, 13 green cubes, and 14 blue cubes. **What is the sum of the IDs of those games?**"
   ]
  },
  {
   "cell_type": "code",
   "execution_count": null,
   "metadata": {},
   "outputs": [],
   "source": [
    "import re"
   ]
  },
  {
   "cell_type": "code",
   "execution_count": null,
   "metadata": {},
   "outputs": [],
   "source": [
    "# Compile the regex pattern for efficiency\n",
    "GAME_PATTERN = re.compile(r'^Game (\\d+): (.*)$')"
   ]
  },
  {
   "cell_type": "code",
   "execution_count": null,
   "metadata": {},
   "outputs": [],
   "source": [
    "def parse_line(line: str) -> tuple[int, list]:\n",
    "    match = GAME_PATTERN.match(line) # RegEx pattern\n",
    "    subsets = []\n",
    "\n",
    "    if match:\n",
    "        # Splits up the game number and the sets\n",
    "        game, lists = match.groups()\n",
    "        lists = [s.strip() for s in lists.split(\"; \")]\n",
    "\n",
    "        for s in lists:\n",
    "            items = s.split(\", \")\n",
    "            set_result = {}\n",
    "\n",
    "            for item in items:\n",
    "                if item:\n",
    "                    count, color = item.split()\n",
    "                    set_result[color.lower()] = int(count)\n",
    "\n",
    "            subsets.append(set_result)\n",
    "\n",
    "        return (int(game), subsets)\n",
    "    else:\n",
    "        print(f\"No match found for line: {line}\")\n",
    "        return -1, []"
   ]
  },
  {
   "cell_type": "code",
   "execution_count": null,
   "metadata": {},
   "outputs": [],
   "source": [
    "def valid_code(subsets: list[dict[str, int]], red=0, green=0, blue=0) -> bool:\n",
    "    limits = {\"red\": red, \"green\": green, \"blue\": blue}\n",
    "\n",
    "    for subset in subsets:\n",
    "        for color, limit in limits.items():\n",
    "            if limit and subset.get(color, 0) > limit:\n",
    "                return False\n",
    "\n",
    "    return True"
   ]
  },
  {
   "cell_type": "code",
   "execution_count": null,
   "metadata": {},
   "outputs": [],
   "source": [
    "def main():\n",
    "    red, green, blue = 12, 13, 14\n",
    "    possible_games = []\n",
    "\n",
    "    file_path = \"input.txt\"\n",
    "    with open(file_path, \"r\") as file:\n",
    "        lines = (line.strip() for line in file)\n",
    "\n",
    "        for game, info in (parse_line(line) for line in lines):\n",
    "            if game != -1 and valid_code(info, red, green, blue):\n",
    "                possible_games.append(game)\n",
    "\n",
    "    # Display results\n",
    "    print(f\"Number of games: {len(possible_games)}\")\n",
    "    print(f\"Sum of the game numbers: {sum(possible_games)}\")\n",
    "\n",
    "if __name__ == \"__main__\":\n",
    "    main()"
   ]
  }
 ],
 "metadata": {
  "kernelspec": {
   "display_name": "Python 3",
   "language": "python",
   "name": "python3"
  },
  "language_info": {
   "codemirror_mode": {
    "name": "ipython",
    "version": 3
   },
   "file_extension": ".py",
   "mimetype": "text/x-python",
   "name": "python",
   "nbconvert_exporter": "python",
   "pygments_lexer": "ipython3",
   "version": "3.12.3"
  }
 },
 "nbformat": 4,
 "nbformat_minor": 2
}
